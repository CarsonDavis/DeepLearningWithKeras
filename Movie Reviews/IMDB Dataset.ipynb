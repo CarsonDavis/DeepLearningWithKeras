{
 "cells": [
  {
   "cell_type": "code",
   "execution_count": 1,
   "metadata": {},
   "outputs": [
    {
     "name": "stderr",
     "output_type": "stream",
     "text": [
      "Using TensorFlow backend.\n"
     ]
    }
   ],
   "source": [
    "from keras.datasets import imdb"
   ]
  },
  {
   "cell_type": "code",
   "execution_count": 2,
   "metadata": {},
   "outputs": [
    {
     "name": "stdout",
     "output_type": "stream",
     "text": [
      "Downloading data from https://s3.amazonaws.com/text-datasets/imdb.npz\n",
      "17465344/17464789 [==============================] - 2s 0us/step\n"
     ]
    }
   ],
   "source": [
    "(train_data, train_labels), (test_data, test_labels) = imdb.load_data(num_words = 10000)"
   ]
  },
  {
   "cell_type": "code",
   "execution_count": 6,
   "metadata": {},
   "outputs": [
    {
     "name": "stdout",
     "output_type": "stream",
     "text": [
      "training examples 25000 other thing 218\n"
     ]
    }
   ],
   "source": [
    "print('training examples', len(train_data), 'other thing', len(train_data[0]))"
   ]
  },
  {
   "cell_type": "code",
   "execution_count": 15,
   "metadata": {},
   "outputs": [
    {
     "name": "stdout",
     "output_type": "stream",
     "text": [
      "Downloading data from https://s3.amazonaws.com/text-datasets/imdb_word_index.json\n",
      "1646592/1641221 [==============================] - 1s 0us/step\n"
     ]
    }
   ],
   "source": [
    "word_index = imdb.get_word_index()\n",
    "reverse_word_index = dict([(value, key) for (key, value) in word_index.items()])"
   ]
  },
  {
   "cell_type": "code",
   "execution_count": 17,
   "metadata": {},
   "outputs": [
    {
     "data": {
      "text/plain": [
       "4822"
      ]
     },
     "execution_count": 17,
     "metadata": {},
     "output_type": "execute_result"
    }
   ],
   "source": [
    "word_index['hello']"
   ]
  },
  {
   "cell_type": "code",
   "execution_count": 18,
   "metadata": {},
   "outputs": [
    {
     "data": {
      "text/plain": [
       "'mostly'"
      ]
     },
     "execution_count": 18,
     "metadata": {},
     "output_type": "execute_result"
    }
   ],
   "source": [
    "reverse_word_index[666]"
   ]
  },
  {
   "cell_type": "code",
   "execution_count": 72,
   "metadata": {},
   "outputs": [],
   "source": [
    "import string\n",
    "def review_to_numbers(input_string):\n",
    "    no_punc = input_string.translate(str.maketrans('', '', string.punctuation)).lower()\n",
    "    word_list = no_punc.split()\n",
    "    \n",
    "    number_list = []\n",
    "    for word in word_list:\n",
    "        word_number = word_index.get(word,None)\n",
    "        if word_number:\n",
    "            number_list.append(word_number)\n",
    "    print(number_list)"
   ]
  },
  {
   "cell_type": "code",
   "execution_count": 73,
   "metadata": {},
   "outputs": [
    {
     "name": "stdout",
     "output_type": "stream",
     "text": [
      "[4822, 49, 2685, 86, 23, 22, 396]\n"
     ]
    }
   ],
   "source": [
    "review_to_numbers('Hello! good sir???      How are you doing familicious')"
   ]
  },
  {
   "cell_type": "code",
   "execution_count": 68,
   "metadata": {},
   "outputs": [],
   "source": [
    "def number_list_to_text(number_list):\n",
    "    return ' '.join([reverse_word_index[word_number] for word_number in number_list])"
   ]
  },
  {
   "cell_type": "code",
   "execution_count": 74,
   "metadata": {},
   "outputs": [
    {
     "data": {
      "text/plain": [
       "'hello good sir how are you doing'"
      ]
     },
     "execution_count": 74,
     "metadata": {},
     "output_type": "execute_result"
    }
   ],
   "source": [
    "number_list_to_text([4822, 49, 2685, 86, 23, 22, 396])"
   ]
  },
  {
   "cell_type": "code",
   "execution_count": 101,
   "metadata": {},
   "outputs": [],
   "source": [
    "# HOW IS THIS WORKING WITHOUT A SECOND FOR LOOP!!!!!?????\n",
    "\n",
    "import numpy as np\n",
    "\n",
    "def vectorize_reviews(reviews, dimension = 10000):\n",
    "    results = np.zeros((len(reviews), dimension)) # number of training reviews x number of possible words\n",
    "    for index, review in enumerate(reviews):\n",
    "        results[index, review] = 1\n",
    "        \n",
    "    return results\n"
   ]
  },
  {
   "cell_type": "code",
   "execution_count": 106,
   "metadata": {},
   "outputs": [
    {
     "name": "stdout",
     "output_type": "stream",
     "text": [
      "x_train\n",
      "[[0. 1. 1. ... 0. 0. 0.]\n",
      " [0. 1. 1. ... 0. 0. 0.]\n",
      " [0. 1. 1. ... 0. 0. 0.]\n",
      " ...\n",
      " [0. 1. 1. ... 0. 0. 0.]\n",
      " [0. 1. 1. ... 0. 0. 0.]\n",
      " [0. 1. 1. ... 0. 0. 0.]]\n",
      "\n",
      "y_train\n",
      "[1. 0. 0. ... 0. 1. 0.]\n"
     ]
    }
   ],
   "source": [
    "x_train = vectorize_reviews(train_data)\n",
    "x_test = vectorize_reviews(test_data)\n",
    "\n",
    "y_train = np.asarray(train_labels).astype('float32')\n",
    "y_test = np.asarray(test_labels).astype('float32')\n",
    "\n",
    "print('x_train')\n",
    "print(x_train)\n",
    "print()\n",
    "print('y_train')\n",
    "print(y_train)"
   ]
  },
  {
   "cell_type": "code",
   "execution_count": 107,
   "metadata": {},
   "outputs": [
    {
     "name": "stdout",
     "output_type": "stream",
     "text": [
      "['the', 'and', 'of', 'to', 'is', 'br', 'in', 'it', 'that', 'was', 'as', 'for', 'with', 'movie', 'but', 'film', 'not', 'you', 'have', 'he', 'one', 'at', 'an', 'they', 'so', 'from', 'her', 'or', 'out', 'some', 'what', 'more', 'when', 'very', 'she', 'story', 'their', 'had', 'than', 'get', 'will', 'other', 'him', 'most', 'then', 'any', 'after', 'watch', 'two', 'character', 'seen', 'never', 'acting', 'over', 'does', 'here', 'while', 'why', 'should', 'real', 'now', 'years', 'going', 'every', 'lot', 'want', 'enough', 'thought', \"isn't\", 'bit', 'script', 'anyone', \"wasn't\", 'shows', '1', 'seeing', 'half', 'help', 'mean', 'moments', 'wonderful', 'name', 'itself', 'several', 'becomes', 'unfortunately', 'history', 'heart', 'sometimes', 'themselves', 'except', 'serious', 'scary', 'room', 'whether', 'atmosphere', 'powerful', 'odd', 'visual', 'camp', 'nobody', 'loves', 'critics', 'lets', 'mine', 'current', 'boat', '70s', \"show's\", 'shadows', 'journalist', 'reaching', 'armed', 'chest', 'potentially', 'musicians', 'heartfelt', 'barrel', 'landed', 'frog']\n"
     ]
    }
   ],
   "source": [
    "# I don't understand how it worked, but somehow it did\n",
    "word_list = []\n",
    "for word_number, boolean in enumerate(x_train[0]):\n",
    "    if boolean:\n",
    "        word_list.append(reverse_word_index[word_number])\n",
    "print(word_list)"
   ]
  },
  {
   "cell_type": "code",
   "execution_count": null,
   "metadata": {},
   "outputs": [],
   "source": []
  },
  {
   "cell_type": "code",
   "execution_count": null,
   "metadata": {},
   "outputs": [],
   "source": []
  },
  {
   "cell_type": "code",
   "execution_count": null,
   "metadata": {},
   "outputs": [],
   "source": []
  }
 ],
 "metadata": {
  "kernelspec": {
   "display_name": "Python 3",
   "language": "python",
   "name": "python3"
  },
  "language_info": {
   "codemirror_mode": {
    "name": "ipython",
    "version": 3
   },
   "file_extension": ".py",
   "mimetype": "text/x-python",
   "name": "python",
   "nbconvert_exporter": "python",
   "pygments_lexer": "ipython3",
   "version": "3.6.8"
  }
 },
 "nbformat": 4,
 "nbformat_minor": 2
}
