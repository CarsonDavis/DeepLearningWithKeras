{
 "cells": [
  {
   "cell_type": "markdown",
   "metadata": {},
   "source": [
    "# Data Processing Functions"
   ]
  },
  {
   "cell_type": "markdown",
   "metadata": {},
   "source": [
    "create dictionaries to convert between numbers and words"
   ]
  },
  {
   "cell_type": "code",
   "execution_count": 1,
   "metadata": {},
   "outputs": [
    {
     "name": "stderr",
     "output_type": "stream",
     "text": [
      "Using TensorFlow backend.\n"
     ]
    }
   ],
   "source": [
    "from keras.datasets import imdb\n",
    "\n",
    "word_index = imdb.get_word_index()\n",
    "reverse_word_index = dict([(value, key) for (key, value) in word_index.items()])"
   ]
  },
  {
   "cell_type": "markdown",
   "metadata": {},
   "source": [
    "define functions to switch between text, word lists, vectors, and arrays of vectors"
   ]
  },
  {
   "cell_type": "code",
   "execution_count": 56,
   "metadata": {},
   "outputs": [],
   "source": [
    "import string\n",
    "\n",
    "def string_to_number_list(input_string):\n",
    "    no_punc = input_string.translate(str.maketrans(' ', ' ', string.punctuation)).lower()\n",
    "    word_list = no_punc.split()\n",
    "    \n",
    "    number_list = []\n",
    "    for word in word_list:\n",
    "        word_number = word_index.get(word,None)\n",
    "        if word_number and word_number <= 10000:\n",
    "            number_list.append(word_number)\n",
    "        elif word_number:\n",
    "            print(word, ' is in the dictionary but was not used for training the model')\n",
    "        else:\n",
    "            print(word, ' is not in the dictionary and was not used to train the model')\n",
    "    return number_list"
   ]
  },
  {
   "cell_type": "code",
   "execution_count": 3,
   "metadata": {},
   "outputs": [],
   "source": [
    "def number_list_to_string(number_list):\n",
    "    return ' '.join([reverse_word_index[word_number] for word_number in number_list])"
   ]
  },
  {
   "cell_type": "code",
   "execution_count": 4,
   "metadata": {},
   "outputs": [],
   "source": [
    "import numpy as np\n",
    "\n",
    "def number_list_array_to_vector_array(reviews, dimension = 10000):\n",
    "    results = np.zeros((len(reviews), dimension)) # number of training reviews x number of possible words\n",
    "    for index, review in enumerate(reviews):\n",
    "        results[index, review] = 1\n",
    "    return results"
   ]
  },
  {
   "cell_type": "code",
   "execution_count": 5,
   "metadata": {},
   "outputs": [],
   "source": [
    "def vector_to_word_list(vector):\n",
    "    word_list = []\n",
    "    for word_number, boolean in enumerate(vector):\n",
    "        if boolean:\n",
    "            word_list.append(reverse_word_index[word_number])\n",
    "    return word_list"
   ]
  },
  {
   "cell_type": "code",
   "execution_count": 6,
   "metadata": {},
   "outputs": [],
   "source": [
    "# def make_test_data(string):\n",
    "def string_to_vector_array(string):    \n",
    "    return np.array(number_list_array_to_vector_array([string_to_number_list(string)]))"
   ]
  },
  {
   "cell_type": "markdown",
   "metadata": {},
   "source": [
    "# Download Data, Dev/Test Split"
   ]
  },
  {
   "cell_type": "code",
   "execution_count": 7,
   "metadata": {},
   "outputs": [],
   "source": [
    "(train_data, train_labels), (test_data, test_labels) = imdb.load_data(num_words = 10000)"
   ]
  },
  {
   "cell_type": "code",
   "execution_count": 8,
   "metadata": {},
   "outputs": [
    {
     "name": "stdout",
     "output_type": "stream",
     "text": [
      "x_train\n",
      "[[0. 1. 1. ... 0. 0. 0.]\n",
      " [0. 1. 1. ... 0. 0. 0.]\n",
      " [0. 1. 1. ... 0. 0. 0.]\n",
      " ...\n",
      " [0. 1. 1. ... 0. 0. 0.]\n",
      " [0. 1. 1. ... 0. 0. 0.]\n",
      " [0. 1. 1. ... 0. 0. 0.]]\n",
      "\n",
      "y_train\n",
      "[1. 0. 0. ... 0. 1. 0.]\n"
     ]
    }
   ],
   "source": [
    "x_train = number_list_array_to_vector_array(train_data)\n",
    "x_test = number_list_array_to_vector_array(test_data)\n",
    "\n",
    "y_train = np.asarray(train_labels).astype('float32')\n",
    "y_test = np.asarray(test_labels).astype('float32')\n",
    "\n",
    "\n",
    "x_val = x_train[:10000]\n",
    "partial_x_train = x_train[10000:]\n",
    "\n",
    "y_val = y_train[:10000]\n",
    "partial_y_train = y_train[10000:]\n",
    "\n",
    "print('x_train')\n",
    "print(x_train)\n",
    "print()\n",
    "print('y_train')\n",
    "print(y_train)"
   ]
  },
  {
   "cell_type": "markdown",
   "metadata": {},
   "source": [
    "# Define Neural Network"
   ]
  },
  {
   "cell_type": "code",
   "execution_count": 176,
   "metadata": {},
   "outputs": [],
   "source": [
    "from keras import models\n",
    "from keras import layers\n",
    "from keras import optimizers\n",
    "from keras import losses\n",
    "from keras import metrics\n",
    "\n",
    "model = models.Sequential()\n",
    "model.add(layers.Dense(10000, activation = 'relu', input_shape = (10000,)))\n",
    "\n",
    "model.add(layers.Dense(2000, activation = 'relu'))\n",
    "model.add(layers.Dense(2000, activation = 'relu'))\n",
    "\n",
    "model.add(layers.Dense(500, activation = 'relu'))\n",
    "model.add(layers.Dense(500, activation = 'relu'))\n",
    "\n",
    "model.add(layers.Dense(250, activation = 'relu'))\n",
    "model.add(layers.Dense(250, activation = 'relu'))\n",
    "\n",
    "model.add(layers.Dense(125, activation = 'relu'))\n",
    "model.add(layers.Dense(125, activation = 'relu'))\n",
    "\n",
    "model.add(layers.Dense(50, activation = 'relu'))\n",
    "model.add(layers.Dense(50, activation = 'relu'))\n",
    "\n",
    "model.add(layers.Dense(25, activation = 'relu'))\n",
    "model.add(layers.Dense(25, activation = 'relu'))\n",
    "\n",
    "model.add(layers.Dense(10, activation = 'relu'))\n",
    "model.add(layers.Dense(10, activation = 'relu'))\n",
    "\n",
    "model.add(layers.Dense(1, activation = 'sigmoid'))\n",
    "\n",
    "model.compile(optimizer = 'rmsprop',\n",
    "             loss = 'binary_crossentropy',\n",
    "             metrics = ['accuracy'])\n",
    "\n",
    "model.compile(optimizer = optimizers.RMSprop(lr=0.001),\n",
    "             loss = 'binary_crossentropy',\n",
    "             metrics = ['accuracy'])\n",
    "\n",
    "model.compile(optimizer = optimizers.RMSprop(lr=0.001),\n",
    "             loss = losses.binary_crossentropy,\n",
    "             metrics=[metrics.binary_accuracy])\n",
    "\n",
    "model.compile(optimizer = 'rmsprop',\n",
    "             loss = 'binary_crossentropy',\n",
    "             metrics = ['acc'])"
   ]
  },
  {
   "cell_type": "markdown",
   "metadata": {},
   "source": [
    "# Train Network"
   ]
  },
  {
   "cell_type": "code",
   "execution_count": 177,
   "metadata": {},
   "outputs": [
    {
     "name": "stdout",
     "output_type": "stream",
     "text": [
      "Train on 15000 samples, validate on 10000 samples\n",
      "Epoch 1/6\n",
      "15000/15000 [==============================] - 124s 8ms/step - loss: 0.7247 - acc: 0.5062 - val_loss: 0.6932 - val_acc: 0.4966\n",
      "Epoch 2/6\n",
      "15000/15000 [==============================] - 120s 8ms/step - loss: 0.6974 - acc: 0.6091 - val_loss: 0.5342 - val_acc: 0.8078\n",
      "Epoch 3/6\n",
      "15000/15000 [==============================] - 119s 8ms/step - loss: 0.4289 - acc: 0.8434 - val_loss: 0.3823 - val_acc: 0.8203\n",
      "Epoch 4/6\n",
      "15000/15000 [==============================] - 120s 8ms/step - loss: 0.2478 - acc: 0.9125 - val_loss: 0.4398 - val_acc: 0.8076\n",
      "Epoch 5/6\n",
      "15000/15000 [==============================] - 119s 8ms/step - loss: 0.1488 - acc: 0.9521 - val_loss: 0.4213 - val_acc: 0.8792\n",
      "Epoch 6/6\n",
      "15000/15000 [==============================] - 119s 8ms/step - loss: 0.0925 - acc: 0.9714 - val_loss: 0.6077 - val_acc: 0.8849\n"
     ]
    }
   ],
   "source": [
    "history = model.fit(partial_x_train,\n",
    "                   partial_y_train,\n",
    "                   epochs=6,\n",
    "                   batch_size = 512,\n",
    "                   validation_data = (x_val, y_val))"
   ]
  },
  {
   "cell_type": "markdown",
   "metadata": {},
   "source": [
    "# Analyze Results"
   ]
  },
  {
   "cell_type": "code",
   "execution_count": 178,
   "metadata": {},
   "outputs": [
    {
     "data": {
      "image/png": "[encoded data removed]",
      "text/plain": [
       "<Figure size 432x288 with 1 Axes>"
      ]
     },
     "metadata": {
      "needs_background": "light"
     },
     "output_type": "display_data"
    }
   ],
   "source": [
    "import matplotlib.pyplot as plt\n",
    "\n",
    "history_dict = history.history\n",
    "\n",
    "epochs = range(1, len(history_dict['val_loss']) +1)\n",
    "plt.plot(epochs, history_dict['loss'], 'bo', label = 'Training Loss')\n",
    "plt.plot(epochs, history_dict['val_loss'], 'b', label = 'Validation Loss')\n",
    "plt.title('Training and Validation Loss')\n",
    "plt.xlabel('Epochs')\n",
    "plt.ylabel('Loss')\n",
    "plt.legend()\n",
    "plt.show()"
   ]
  },
  {
   "cell_type": "code",
   "execution_count": 179,
   "metadata": {},
   "outputs": [
    {
     "name": "stdout",
     "output_type": "stream",
     "text": [
      "25000/25000 [==============================] - 80s 3ms/step\n"
     ]
    },
    {
     "data": {
      "text/plain": [
       "[0.6464387044537068, 0.87412]"
      ]
     },
     "execution_count": 179,
     "metadata": {},
     "output_type": "execute_result"
    }
   ],
   "source": [
    "results = model.evaluate(x_test, y_test)\n",
    "results"
   ]
  },
  {
   "cell_type": "markdown",
   "metadata": {},
   "source": [
    "# Custom Tests"
   ]
  },
  {
   "cell_type": "markdown",
   "metadata": {},
   "source": [
    "### Custom Test Function"
   ]
  },
  {
   "cell_type": "code",
   "execution_count": 180,
   "metadata": {},
   "outputs": [],
   "source": [
    "def custom_test(string,boolean):\n",
    "    percent = model.predict(string_to_vector_array(string))[0][0]\n",
    "    \n",
    "    if percent > .5 and boolean:\n",
    "        accuracy = 'CORRECT'\n",
    "    elif percent > .5 and not boolean:\n",
    "        accuracy = 'WRONG'\n",
    "    elif percent < .5 and boolean:\n",
    "        accuracy = 'WRONG'\n",
    "    elif percent < .5 and not boolean:\n",
    "        accuracy = 'CORRECT'\n",
    "        \n",
    "    if boolean:\n",
    "        sentiment = 'positive'\n",
    "    else:\n",
    "        sentiment = 'negative'\n",
    "        \n",
    "    print(accuracy, 'Model predicted', percent, 'chance of being positive.')\n",
    "    "
   ]
  },
  {
   "cell_type": "markdown",
   "metadata": {},
   "source": [
    "### Positive Reviews"
   ]
  },
  {
   "cell_type": "code",
   "execution_count": 181,
   "metadata": {},
   "outputs": [
    {
     "name": "stdout",
     "output_type": "stream",
     "text": [
      "CORRECT Model predicted 0.9605966 chance of being positive.\n"
     ]
    }
   ],
   "source": [
    "custom_test('wow this movie was incredible', True)"
   ]
  },
  {
   "cell_type": "code",
   "execution_count": 182,
   "metadata": {},
   "outputs": [
    {
     "name": "stdout",
     "output_type": "stream",
     "text": [
      "CORRECT Model predicted 0.8427976 chance of being positive.\n"
     ]
    }
   ],
   "source": [
    "custom_test('love favorite best great incredible interesting', True)"
   ]
  },
  {
   "cell_type": "code",
   "execution_count": 183,
   "metadata": {},
   "outputs": [
    {
     "name": "stdout",
     "output_type": "stream",
     "text": [
      "CORRECT Model predicted 0.7664375 chance of being positive.\n"
     ]
    }
   ],
   "source": [
    "custom_test('wow! I have never even seen a movie this good! it was better than the godfather', True)"
   ]
  },
  {
   "cell_type": "code",
   "execution_count": 184,
   "metadata": {},
   "outputs": [
    {
     "name": "stdout",
     "output_type": "stream",
     "text": [
      "quickpaced  is not in the dictionary and was not used to train the model\n",
      "CORRECT Model predicted 0.9830367 chance of being positive.\n"
     ]
    }
   ],
   "source": [
    "custom_test('the plot was quick-paced and easily entertained me and I loved the character development', True)"
   ]
  },
  {
   "cell_type": "markdown",
   "metadata": {},
   "source": [
    "### Negative Reviews"
   ]
  },
  {
   "cell_type": "code",
   "execution_count": 185,
   "metadata": {},
   "outputs": [
    {
     "name": "stdout",
     "output_type": "stream",
     "text": [
      "WRONG Model predicted 0.950732 chance of being positive.\n"
     ]
    }
   ],
   "source": [
    "custom_test('this was a terrible movie, i really hated it and thought it was the worst', False)"
   ]
  },
  {
   "cell_type": "code",
   "execution_count": 186,
   "metadata": {},
   "outputs": [
    {
     "name": "stdout",
     "output_type": "stream",
     "text": [
      "CORRECT Model predicted 0.3095378 chance of being positive.\n"
     ]
    }
   ],
   "source": [
    "custom_test('this is easily the worst movie that I have every watched in my entire life', False)"
   ]
  },
  {
   "cell_type": "code",
   "execution_count": 187,
   "metadata": {},
   "outputs": [
    {
     "name": "stdout",
     "output_type": "stream",
     "text": [
      "gouge  is in the dictionary but was not used for training the model\n",
      "CORRECT Model predicted 0.18765962 chance of being positive.\n"
     ]
    }
   ],
   "source": [
    "custom_test('I would rather scratch and gouge my own eyes out than be forced to watch this movie', False)"
   ]
  },
  {
   "cell_type": "code",
   "execution_count": 188,
   "metadata": {},
   "outputs": [
    {
     "name": "stdout",
     "output_type": "stream",
     "text": [
      "CORRECT Model predicted 0.12461313 chance of being positive.\n"
     ]
    }
   ],
   "source": [
    "custom_test('the characters were flat an uninteresting and the plot dragged on forever', False)"
   ]
  },
  {
   "cell_type": "code",
   "execution_count": 189,
   "metadata": {},
   "outputs": [
    {
     "name": "stdout",
     "output_type": "stream",
     "text": [
      "WRONG Model predicted 0.55204403 chance of being positive.\n"
     ]
    }
   ],
   "source": [
    "custom_test('boring, terrible, worst, hate, awful', False)"
   ]
  },
  {
   "cell_type": "code",
   "execution_count": null,
   "metadata": {},
   "outputs": [],
   "source": []
  }
 ],
 "metadata": {
  "kernelspec": {
   "display_name": "Python 3",
   "language": "python",
   "name": "python3"
  },
  "language_info": {
   "codemirror_mode": {
    "name": "ipython",
    "version": 3
   },
   "file_extension": ".py",
   "mimetype": "text/x-python",
   "name": "python",
   "nbconvert_exporter": "python",
   "pygments_lexer": "ipython3",
   "version": "3.6.8"
  }
 },
 "nbformat": 4,
 "nbformat_minor": 2
}
